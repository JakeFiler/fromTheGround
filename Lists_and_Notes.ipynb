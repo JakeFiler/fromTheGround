{
  "nbformat": 4,
  "nbformat_minor": 0,
  "metadata": {
    "colab": {
      "provenance": [],
      "authorship_tag": "ABX9TyMW2H1K7xB2Dxsnr9Jf0QBn",
      "include_colab_link": true
    },
    "kernelspec": {
      "name": "python3",
      "display_name": "Python 3"
    },
    "language_info": {
      "name": "python"
    }
  },
  "cells": [
    {
      "cell_type": "markdown",
      "metadata": {
        "id": "view-in-github",
        "colab_type": "text"
      },
      "source": [
        "<a href=\"https://colab.research.google.com/github/JakeFiler/fromTheGround/blob/main/Lists_and_Notes.ipynb\" target=\"_parent\"><img src=\"https://colab.research.google.com/assets/colab-badge.svg\" alt=\"Open In Colab\"/></a>"
      ]
    },
    {
      "cell_type": "markdown",
      "source": [
        "Reading List"
      ],
      "metadata": {
        "id": "PTtSW-KouloY"
      }
    },
    {
      "cell_type": "markdown",
      "source": [
        "Watch List\n",
        "\n",
        "```\n",
        "https://www.youtube.com/watch?v=0TdAmZUMj2k&t=719s - Neural Nets: rotation and squashing\n",
        "https://www.youtube.com/watch?v=UOvPeC8WOt8 - The Neural Network, A Visual Introduction\n",
        "https://www.youtube.com/watch?v=-at7SLoVK_I - What happens *inside* a neural network?\n",
        "\n",
        "https://www.youtube.com/watch?v=fNk_zzaMoSs&list=PLZHQObOWTQDPD3MizzM2xVFitgF8hE_ab - Linear Algebra\n",
        "```\n",
        "\n"
      ],
      "metadata": {
        "id": "kuomNd1DuljV"
      }
    },
    {
      "cell_type": "markdown",
      "source": [
        "Notes"
      ],
      "metadata": {
        "id": "_ePex-C9ulZ1"
      }
    }
  ]
}