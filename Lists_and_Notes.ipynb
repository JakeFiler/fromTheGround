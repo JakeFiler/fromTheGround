{
  "nbformat": 4,
  "nbformat_minor": 0,
  "metadata": {
    "colab": {
      "provenance": [],
      "authorship_tag": "ABX9TyNeZLbFB+ZWcK2/Qi3fJ21H",
      "include_colab_link": true
    },
    "kernelspec": {
      "name": "python3",
      "display_name": "Python 3"
    },
    "language_info": {
      "name": "python"
    }
  },
  "cells": [
    {
      "cell_type": "markdown",
      "metadata": {
        "id": "view-in-github",
        "colab_type": "text"
      },
      "source": [
        "<a href=\"https://colab.research.google.com/github/JakeFiler/fromTheGround/blob/main/Lists_and_Notes.ipynb\" target=\"_parent\"><img src=\"https://colab.research.google.com/assets/colab-badge.svg\" alt=\"Open In Colab\"/></a>"
      ]
    },
    {
      "cell_type": "markdown",
      "source": [
        "#Reading List\n",
        "\n",
        "Machines Of Loving Grace https://darioamodei.com/machines-of-loving-grace\n",
        "\n",
        "Simulators https://www.lesswrong.com/posts/vJFdjigzmcXMhNTsx/simulators\n",
        "Very much enjoy this one. Changes how I think about and understand what is happening with modern models. More notes to come.\n",
        "\n",
        "Sutualtional Awareness https://situational-awareness.ai/"
      ],
      "metadata": {
        "id": "PTtSW-KouloY"
      }
    },
    {
      "cell_type": "markdown",
      "source": [
        "#Watch List\n",
        "\n",
        "```\n",
        "https://www.youtube.com/watch?v=0TdAmZUMj2k&t=719s - Neural Nets: rotation and squashing\n",
        "https://www.youtube.com/watch?v=UOvPeC8WOt8 - The Neural Network, A Visual Introduction\n",
        "https://www.youtube.com/watch?v=-at7SLoVK_I - What happens *inside* a neural network?\n",
        "\n",
        "https://www.youtube.com/watch?v=fNk_zzaMoSs&list=PLZHQObOWTQDPD3MizzM2xVFitgF8hE_ab - Linear Algebra\n",
        "```\n",
        "\n"
      ],
      "metadata": {
        "id": "kuomNd1DuljV"
      }
    },
    {
      "cell_type": "markdown",
      "source": [
        "#Notes\n",
        "\n",
        "###**Vectors**\n",
        "\n",
        "A vector has:\n",
        "\n",
        "**Magnitude**: How long\n",
        "\n",
        "**Direction**: Where it points\n",
        "\n",
        "points on a graph can be represented as (1,2)\n",
        "\n",
        "We can picture a vector as an arrow. The length of the arrow is its magnitude, and the way it’s pointing is its direction\n",
        "\n",
        "A 2 dimensional vector, starting at the origin, pointing to the point (1,2) can be represented by coordinates as such:\n",
        "\n",
        " \\begin{pmatrix} 1 \\\\ 2 \\end{pmatrix}\n",
        "\n",
        "Addition of same sized vectors works straight across\n",
        "\n",
        "Multiplication of a vector by a number stretch the magnitude of that vecor but does not change direction\n",
        "\n",
        "2 x a vector is just a vector twice as long\n",
        "\n",
        "-1.5 is a vector pointing in the opposite direction and stretched 1.5\n",
        "\n",
        "the number multiplying the vector can be called a **Scalar** since it is scaling the vector in some way.\n",
        "\n",
        "###**Matracies**\n",
        "\n",
        "A matrix is essentially a rectangular arrangement of numbers. They generalize vectors into multi-dimensional modifiers.\n",
        "\n",
        "Matrices can modify vectors through matrix-vector multiplication.\n",
        "\n"
      ],
      "metadata": {
        "id": "_ePex-C9ulZ1"
      }
    },
    {
      "cell_type": "code",
      "source": [],
      "metadata": {
        "id": "yUICuN_vfdIh"
      },
      "execution_count": null,
      "outputs": []
    }
  ]
}